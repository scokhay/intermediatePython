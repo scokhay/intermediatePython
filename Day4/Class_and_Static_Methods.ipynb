{
 "cells": [
  {
   "cell_type": "markdown",
   "metadata": {},
   "source": [
    "# Class Methods and Static Methods\n",
    "\n",
    "Regular methods in our classes, take the **self** as the first argument.\n",
    "\n",
    "To turn a regular method into a class method, use a decorator **@classmethod**"
   ]
  },
  {
   "cell_type": "code",
   "execution_count": 4,
   "metadata": {
    "collapsed": true
   },
   "outputs": [],
   "source": [
    "class Employee:\n",
    "    raise_amount = 1.04\n",
    "    num_of_emp = 0\n",
    "    def __init__(self, first, last , pay):\n",
    "        self.first = first\n",
    "        self.last = last\n",
    "        self.pay = pay\n",
    "        self.email = first + \".\" + last + \"@weber.edu\"\n",
    "        Employee.num_of_emp += 1\n",
    "        \n",
    "    def fullname(self):\n",
    "        return \"{} {}\".format(self.first, self.last)\n",
    "    \n",
    "    def apply_raise(self):\n",
    "        self.pay = int(self.pay * self.raise_amount) # % raise\n",
    "    \n",
    "    @classmethod\n",
    "    def set_raise_amt(cls, amount):\n",
    "        cls.raise_amount = amount"
   ]
  },
  {
   "cell_type": "code",
   "execution_count": 5,
   "metadata": {},
   "outputs": [
    {
     "name": "stdout",
     "output_type": "stream",
     "text": [
      "1.04\n",
      "1.04\n",
      "1.04\n",
      "1.06\n",
      "1.06\n",
      "1.06\n"
     ]
    }
   ],
   "source": [
    "# test it\n",
    "emp1 = Employee(\"Juan\", \"Perez\", 50000)\n",
    "emp2 = Employee(\"Raymond\", \"White\", 30000)\n",
    "print(Employee.raise_amount)\n",
    "print(emp1.raise_amount)\n",
    "print(emp2.raise_amount)\n",
    "# Set the raise\n",
    "Employee.set_raise_amt(1.06)\n",
    "print(Employee.raise_amount)\n",
    "print(emp1.raise_amount)\n",
    "print(emp2.raise_amount)"
   ]
  },
  {
   "cell_type": "code",
   "execution_count": 8,
   "metadata": {},
   "outputs": [
    {
     "name": "stdout",
     "output_type": "stream",
     "text": [
      "1.07\n",
      "1.09\n",
      "1.07\n",
      "1.07\n",
      "1.09\n",
      "1.07\n",
      "1.1\n",
      "1.09\n",
      "1.1\n"
     ]
    }
   ],
   "source": [
    "# Now update it through an instance\n",
    "emp1.set_raise_amt(1.07)\n",
    "print(Employee.raise_amount)\n",
    "print(emp1.raise_amount)\n",
    "print(emp2.raise_amount)\n",
    "# update one case\n",
    "emp1.raise_amount = 1.09\n",
    "print(Employee.raise_amount)\n",
    "print(emp1.raise_amount)\n",
    "print(emp2.raise_amount)\n",
    "# Changing the class variable, but not your instance varaible IF available\n",
    "emp1.set_raise_amt(1.10)\n",
    "print(Employee.raise_amount)\n",
    "print(emp1.raise_amount)\n",
    "print(emp2.raise_amount)"
   ]
  },
  {
   "cell_type": "markdown",
   "metadata": {},
   "source": [
    "## Alternative Constructors\n",
    "Provide multiple ways to create objects"
   ]
  },
  {
   "cell_type": "code",
   "execution_count": 11,
   "metadata": {},
   "outputs": [
    {
     "name": "stdout",
     "output_type": "stream",
     "text": [
      "Peter.Glass@weber.edu\n"
     ]
    }
   ],
   "source": [
    "# test it\n",
    "emp1 = Employee(\"Juan\", \"Perez\", 50000)\n",
    "emp2 = Employee(\"Raymond\", \"White\", 30000)\n",
    "# CSV records\n",
    "emp3_str = \"Manuel-Garcia-40000\"\n",
    "emp4_str = \"Peter-Glass-60000\"\n",
    "# Task: Slit record, then create instance\n",
    "first, last, pay = emp3_str.split('-')\n",
    "emp3 = Employee(first, last, pay)\n",
    "# Unpacked on the fly. use the \"*\" to unpack\n",
    "emp4 = Employee(*emp4_str.split('-'))\n",
    "\n",
    "print(emp4.email)"
   ]
  },
  {
   "cell_type": "markdown",
   "metadata": {},
   "source": [
    "When creating alternative constructors, the naming convention suggest to begin with **from_**name"
   ]
  },
  {
   "cell_type": "code",
   "execution_count": 12,
   "metadata": {
    "collapsed": true
   },
   "outputs": [],
   "source": [
    "class Employee:\n",
    "    raise_amount = 1.04\n",
    "    num_of_emp = 0\n",
    "    def __init__(self, first, last , pay):\n",
    "        self.first = first\n",
    "        self.last = last\n",
    "        self.pay = pay\n",
    "        self.email = first + \".\" + last + \"@weber.edu\"\n",
    "        Employee.num_of_emp += 1\n",
    "        \n",
    "    def fullname(self):\n",
    "        return \"{} {}\".format(self.first, self.last)\n",
    "    \n",
    "    def apply_raise(self):\n",
    "        self.pay = int(self.pay * self.raise_amount) # % raise\n",
    "    \n",
    "    @classmethod\n",
    "    def set_raise_amt(cls, amount):\n",
    "        cls.raise_amount = amount\n",
    "        \n",
    "    @classmethod\n",
    "    def from_string(cls, emp_str):\n",
    "        first, last, pay = emp_str.split('-')\n",
    "        # Create and return a new Employee\n",
    "        return cls(first, last, pay)\n",
    "        "
   ]
  },
  {
   "cell_type": "code",
   "execution_count": 13,
   "metadata": {},
   "outputs": [
    {
     "name": "stdout",
     "output_type": "stream",
     "text": [
      "Peter.Marlon@weber.edu\n"
     ]
    }
   ],
   "source": [
    "emp5_str = \"Peter-Marlon-20000\"\n",
    "emp5 = Employee.from_string(emp5_str)\n",
    "print(emp5.email)"
   ]
  },
  {
   "cell_type": "markdown",
   "metadata": {},
   "source": [
    "Review the **datetime** module for examples on multiple constructors"
   ]
  },
  {
   "cell_type": "code",
   "execution_count": 14,
   "metadata": {},
   "outputs": [
    {
     "data": {
      "text/plain": [
       "'C:\\\\Program Files\\\\Python35\\\\lib\\\\datetime.py'"
      ]
     },
     "execution_count": 14,
     "metadata": {},
     "output_type": "execute_result"
    }
   ],
   "source": [
    "import datetime\n",
    "datetime.__file__"
   ]
  },
  {
   "cell_type": "markdown",
   "metadata": {},
   "source": [
    "## Static Methods\n",
    "- Instance methods pass the **self** as first parameter\n",
    "- Class methods pass the **cls** as the first parameter\n",
    "- Static methods, do not pass anything automatically. They are just regular defenitions. Except, they are relevenat to the class. \n",
    "    - They use a decorator **@staticmethod**"
   ]
  },
  {
   "cell_type": "code",
   "execution_count": 15,
   "metadata": {
    "collapsed": true
   },
   "outputs": [],
   "source": [
    "class Employee:\n",
    "    raise_amount = 1.04\n",
    "    num_of_emp = 0\n",
    "    def __init__(self, first, last , pay):\n",
    "        self.first = first\n",
    "        self.last = last\n",
    "        self.pay = pay\n",
    "        self.email = first + \".\" + last + \"@weber.edu\"\n",
    "        Employee.num_of_emp += 1\n",
    "        \n",
    "    def fullname(self):\n",
    "        return \"{} {}\".format(self.first, self.last)\n",
    "    \n",
    "    def apply_raise(self):\n",
    "        self.pay = int(self.pay * self.raise_amount) # % raise\n",
    "    \n",
    "    @classmethod\n",
    "    def set_raise_amt(cls, amount):\n",
    "        cls.raise_amount = amount\n",
    "        \n",
    "    @classmethod\n",
    "    def from_string(cls, emp_str):\n",
    "        first, last, pay = emp_str.split('-')\n",
    "        # Create and return a new Employee\n",
    "        return cls(first, last, pay)\n",
    "    \n",
    "    @staticmethod\n",
    "    def is_workday(day):\n",
    "        \"\"\"\n",
    "        Monday = 0, Tuesday = 1, ... Sunday = 6\n",
    "        \"\"\"\n",
    "        if day.weekday() == 5 or day.weekday() == 6:\n",
    "            return False\n",
    "        return True"
   ]
  },
  {
   "cell_type": "code",
   "execution_count": 16,
   "metadata": {},
   "outputs": [
    {
     "name": "stdout",
     "output_type": "stream",
     "text": [
      "True\n"
     ]
    }
   ],
   "source": [
    "import datetime\n",
    "emp1 = Employee(\"Juan\", \"Perez\", 50000)\n",
    "emp2 = Employee(\"Raymond\", \"White\", 30000)\n",
    "my_date = datetime.date(2017,5,15)\n",
    "print(Employee.is_workday(my_date))"
   ]
  },
  {
   "cell_type": "code",
   "execution_count": 17,
   "metadata": {},
   "outputs": [
    {
     "name": "stdout",
     "output_type": "stream",
     "text": [
      "False\n"
     ]
    }
   ],
   "source": [
    "my_date = datetime.date(2017,5,14)\n",
    "print(Employee.is_workday(my_date))"
   ]
  },
  {
   "cell_type": "markdown",
   "metadata": {},
   "source": [
    "Note on when to use static methods<br>\n",
    "If you do not access any attribute from the instance **self** or class **cls**, you could define it as **static**"
   ]
  },
  {
   "cell_type": "code",
   "execution_count": null,
   "metadata": {
    "collapsed": true
   },
   "outputs": [],
   "source": []
  }
 ],
 "metadata": {
  "kernelspec": {
   "display_name": "Python 3",
   "language": "python",
   "name": "python3"
  },
  "language_info": {
   "codemirror_mode": {
    "name": "ipython",
    "version": 3
   },
   "file_extension": ".py",
   "mimetype": "text/x-python",
   "name": "python",
   "nbconvert_exporter": "python",
   "pygments_lexer": "ipython3",
   "version": "3.5.1"
  }
 },
 "nbformat": 4,
 "nbformat_minor": 2
}
